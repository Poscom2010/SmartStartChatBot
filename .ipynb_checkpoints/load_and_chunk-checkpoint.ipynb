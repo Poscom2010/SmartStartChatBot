{
 "cells": [
  {
   "cell_type": "markdown",
   "id": "b4c456bf-8312-41e6-a18a-47c6108a816b",
   "metadata": {},
   "source": [
    "Import neccessary libraries"
   ]
  },
  {
   "cell_type": "code",
   "execution_count": 84,
   "id": "3b134c75-295b-4797-9dd1-a37f5e1d99c8",
   "metadata": {},
   "outputs": [],
   "source": [
    "import requests\n",
    "from bs4 import BeautifulSoup\n",
    "from langchain.text_splitter import RecursiveCharacterTextSplitter\n",
    "from langchain.schema import Document\n",
    "from langchain_community.document_loaders import WebBaseLoader"
   ]
  },
  {
   "cell_type": "code",
   "execution_count": 85,
   "id": "c89be69c-3993-40e3-86ce-369316773943",
   "metadata": {},
   "outputs": [],
   "source": [
    "# Define the smart start urls\n",
    "\n",
    "\n",
    "smart_start_urls = [\n",
    "    'https://smartstart.org.za/index.html',\n",
    "    'https://smartstart.org.za/news.html',\n",
    "    'https://smartstart.org.za/funders.html',\n",
    "    'https://smartstart.org.za/partners.html',\n",
    "    'https://smartstart.org.za/care-givers.html',\n",
    "    'https://smartstart.org.za/contact.html'  \n",
    "]"
   ]
  },
  {
   "cell_type": "code",
   "execution_count": 86,
   "id": "26127bb9-4044-4251-9a37-0569a5a9b7ec",
   "metadata": {},
   "outputs": [],
   "source": [
    "# Define function to fetch load and clean html content from the website"
   ]
  },
  {
   "cell_type": "code",
   "execution_count": 87,
   "id": "efc97841-2b0c-4d8b-a79c-99d45bd88dc8",
   "metadata": {},
   "outputs": [],
   "source": [
    "\n",
    "\n",
    "def fetch_clean_text(url: str) -> str:\n",
    "    \"\"\"\n",
    "    Fetches HTML content from the URL and cleans it by:\n",
    "    - Removing script, style, nav, and footer tags\n",
    "    - Extracting visible text\n",
    "    Returns the cleaned text as a string.\n",
    "    \"\"\"\n",
    "    response = requests.get(url, headers={\"User-Agent\": \"SmartStartRAGBot/1.0 (https://smartstart.org.za)\"})\n",
    "    \n",
    "    if response.status_code != 200:\n",
    "        raise Exception(f\"Failed to fetch {url}, status code: {response.status_code}\")\n",
    "    \n",
    "    soup = BeautifulSoup(response.text, 'html.parser')\n",
    "    \n",
    "    # Remove unwanted tags\n",
    "    for tag in ['script', 'style', 'nav', 'footer']:\n",
    "        for match in soup.find_all(tag):\n",
    "            match.decompose()\n",
    "    \n",
    "    # Get visible text\n",
    "    cleaned_text = soup.get_text(separator=' ', strip=True)\n",
    "    \n",
    "    return cleaned_text\n"
   ]
  },
  {
   "cell_type": "markdown",
   "id": "1d9795de-b7a2-4899-98b2-937424d6ac0a",
   "metadata": {},
   "source": [
    "Fetch and clean each url data and store in langchain Document object"
   ]
  },
  {
   "cell_type": "code",
   "execution_count": 88,
   "id": "4df6e885-e7b1-47d3-8004-520293d4586d",
   "metadata": {},
   "outputs": [
    {
     "name": "stdout",
     "output_type": "stream",
     "text": [
      "Fetching and cleaning: https://smartstart.org.za/index.html\n",
      "Fetching and cleaning: https://smartstart.org.za/news.html\n",
      "Fetching and cleaning: https://smartstart.org.za/funders.html\n",
      "Fetching and cleaning: https://smartstart.org.za/partners.html\n",
      "Fetching and cleaning: https://smartstart.org.za/care-givers.html\n",
      "Fetching and cleaning: https://smartstart.org.za/contact.html\n",
      "\n",
      "✅ Loaded and cleaned 6 documents.\n"
     ]
    }
   ],
   "source": [
    "documents = []\n",
    "for url in smart_start_urls:\n",
    "    print(f'Fetching and cleaning: {url}')\n",
    "    try:\n",
    "        text = fetch_clean_text(url)\n",
    "        doc = Document(page_content =text, metadata ={'source':url})\n",
    "\n",
    "        documents.append(doc)\n",
    "    except Exception as e:\n",
    "        print(f'Error processing:,{url}:{e}')\n",
    "print(f'\\n✅ Loaded and cleaned {len(documents)} documents.')"
   ]
  },
  {
   "cell_type": "code",
   "execution_count": 89,
   "id": "a5fc3cf3-d588-459c-8796-534b58b7ecb4",
   "metadata": {},
   "outputs": [
    {
     "name": "stdout",
     "output_type": "stream",
     "text": [
      "SmartStart Welcome to SmartStart Our latest Child Outcomes Evaluation has been published. View now Close The Brightest Futures Have a SmartStart Giving the most underserved children access to quality early learning. Learn more Brightening Futures, For Every Child We have a Bold Vision for Our Children At SmartStart, we believe every child deserves the opportunity to learn, grow, and shine â no matter their background. Quality early learning lays the foundation for a brighter future, and weâre committed to making it accessible to all, especially in our most underserved communities. Thatâs why weâre on a mission to reach one million children aged 3 to 5 every year by 2030 , giving them the best start in life and helping to build a better future for South Africa. Let's make a difference Join the Early Learning Movement Weâd love to give every child the opportunity to succeed, but we canât do it alone. Whether youâre passionate about teaching, eager to support, or looking for\n",
      "\n",
      "Metadata: {'source': 'https://smartstart.org.za/index.html'}\n"
     ]
    }
   ],
   "source": [
    "# View the first document\n",
    "print(documents[0].page_content[:1000])  # Print first 1000 characters (to avoid overload)\n",
    "print(\"\\nMetadata:\", documents[0].metadata)\n"
   ]
  },
  {
   "cell_type": "markdown",
   "id": "f70863b0-d8b4-4315-b152-afbe4f04d4cc",
   "metadata": {},
   "source": [
    "Load Together AI API keys "
   ]
  },
  {
   "cell_type": "code",
   "execution_count": 90,
   "id": "71038721-e438-4879-8f5d-b75fc731bb8a",
   "metadata": {},
   "outputs": [
    {
     "name": "stdout",
     "output_type": "stream",
     "text": [
      "✅ API key loaded: True\n"
     ]
    }
   ],
   "source": [
    "from dotenv import load_dotenv\n",
    "import os\n",
    "\n",
    "load_dotenv()  # This loads variables from .env into environment\n",
    "api_key = os.getenv(\"TOGETHER_API_KEY\")\n",
    "\n",
    "print(\"✅ API key loaded:\", bool(api_key))\n"
   ]
  },
  {
   "cell_type": "code",
   "execution_count": 91,
   "id": "79d2afd7-ce9c-4799-b63a-84749cbb014f",
   "metadata": {},
   "outputs": [],
   "source": [
    "from langchain.embeddings.base import Embeddings"
   ]
  },
  {
   "cell_type": "code",
   "execution_count": 92,
   "id": "bdf54b9a-10c5-4974-996d-1d43db83a2b5",
   "metadata": {},
   "outputs": [],
   "source": [
    "\n",
    "import requests\n",
    "from langchain.embeddings.base import Embeddings\n",
    "import os\n",
    "import requests\n",
    "from typing import List\n",
    "\n",
    "from langchain.embeddings import HuggingFaceEmbeddings\n"
   ]
  },
  {
   "cell_type": "code",
   "execution_count": 93,
   "id": "864dbe98-24b9-41ef-8589-c9fb0babe066",
   "metadata": {},
   "outputs": [],
   "source": [
    "#Build embedding model\n",
    "embeddings = HuggingFaceEmbeddings(\n",
    "    model_name=\"sentence-transformers/all-MiniLM-L6-v2\"\n",
    ")"
   ]
  },
  {
   "cell_type": "code",
   "execution_count": 94,
   "id": "a424a5e2-7c0c-43d5-9098-9ab8aabbc2ff",
   "metadata": {},
   "outputs": [],
   "source": [
    "from langchain.vectorstores import FAISS"
   ]
  },
  {
   "cell_type": "code",
   "execution_count": 96,
   "id": "fb103bfc-a0ce-45ab-8bae-52a59770a4df",
   "metadata": {},
   "outputs": [],
   "source": [
    "# Create FAISS vectorstore from your documents\n",
    "vectorstore = FAISS.from_documents(documents, embedding_model)\n"
   ]
  },
  {
   "cell_type": "code",
   "execution_count": 97,
   "id": "7b9a82c0-1089-4db3-af1c-f1548a740b41",
   "metadata": {},
   "outputs": [
    {
     "name": "stdout",
     "output_type": "stream",
     "text": [
      "✅ Together.ai FAISS index created and saved.\n"
     ]
    }
   ],
   "source": [
    "\n",
    "# Save it locally for reuse\n",
    "vectorstore.save_local(\"smartstart_faiss_index\")\n",
    "\n",
    "print(\"✅ Together.ai FAISS index created and saved.\")"
   ]
  },
  {
   "cell_type": "code",
   "execution_count": 117,
   "id": "077ee06a-d6ac-4320-8a54-6a09baf4954d",
   "metadata": {},
   "outputs": [
    {
     "name": "stdout",
     "output_type": "stream",
     "text": [
      "✅vectortsore successfuly loaded\n"
     ]
    }
   ],
   "source": [
    "#Load save FAISS iNDEX\n",
    "\n",
    "vectorstore = FAISS.load_local('smartstart_faiss_index',\n",
    "                              embeddings =embeddings,\n",
    "                               allow_dangerous_deserialization=True\n",
    ")\n",
    "print('✅vectortsore successfuly loaded')\n"
   ]
  },
  {
   "cell_type": "code",
   "execution_count": 118,
   "id": "fec1c2af-c6af-4d59-b630-abaaa8cb62fa",
   "metadata": {},
   "outputs": [],
   "source": [
    "#Create a retriever\n",
    "retriever = vectorstore.as_retriever(search_kwargs = {'k':3})\n"
   ]
  },
  {
   "cell_type": "code",
   "execution_count": 124,
   "id": "680b577f-6ea3-4ede-988f-a302e3915e07",
   "metadata": {},
   "outputs": [],
   "source": [
    "# LLM set up -llm wrapper\n",
    "\n",
    "from langchain.llms import Together\n",
    "\n",
    "llm = Together(\n",
    "    model=\"mistralai/Mistral-7B-Instruct-v0.1\",\n",
    "    temperature=0.3,\n",
    "    max_tokens=150\n",
    ")\n"
   ]
  },
  {
   "cell_type": "code",
   "execution_count": 122,
   "id": "fee69161-1d08-4254-8584-5a8ad002449c",
   "metadata": {},
   "outputs": [],
   "source": [
    "# Create a retrieveal chain q&a\n",
    "\n",
    "from langchain.chains import RetrievalQA\n",
    "\n",
    "qa_chain = RetrievalQA.from_chain_type(\n",
    "    llm=llm,\n",
    "    retriever=vectorstore.as_retriever(),\n",
    "    return_source_documents=True\n",
    ")\n"
   ]
  },
  {
   "cell_type": "code",
   "execution_count": 126,
   "id": "3762ae4e-665d-4594-8375-ee644dd61889",
   "metadata": {},
   "outputs": [
    {
     "name": "stdout",
     "output_type": "stream",
     "text": [
      " Grace Matlhape is the Chief Executive Officer of SmartStart.\n"
     ]
    }
   ],
   "source": [
    "# Ask a question\n",
    "query = \"Whos the ceo of smartstart?\"\n",
    "result = qa_chain({\"query\": query})\n",
    "print(result[\"result\"])\n"
   ]
  },
  {
   "cell_type": "code",
   "execution_count": null,
   "id": "56955aab-7f64-43c8-915b-eded10c5bbca",
   "metadata": {},
   "outputs": [],
   "source": []
  },
  {
   "cell_type": "code",
   "execution_count": null,
   "id": "df720370-3485-4aa3-9681-e07adff1f415",
   "metadata": {},
   "outputs": [],
   "source": []
  }
 ],
 "metadata": {
  "kernelspec": {
   "display_name": "Python (SmartStart-RAG)",
   "language": "python",
   "name": "env"
  },
  "language_info": {
   "codemirror_mode": {
    "name": "ipython",
    "version": 3
   },
   "file_extension": ".py",
   "mimetype": "text/x-python",
   "name": "python",
   "nbconvert_exporter": "python",
   "pygments_lexer": "ipython3",
   "version": "3.13.3"
  }
 },
 "nbformat": 4,
 "nbformat_minor": 5
}
